{
 "cells": [
  {
   "cell_type": "code",
   "execution_count": 1,
   "metadata": {},
   "outputs": [],
   "source": [
    "include(\"/Users/meesvandartel/Desktop/Projects/LPR projects/FinGrowthABM_repo/GrowthBanks.jl\")\n",
    "using .GrowthBanks,Agents,Plots,HypothesisTests,ProgressMeter"
   ]
  },
  {
   "cell_type": "code",
   "execution_count": 2,
   "metadata": {},
   "outputs": [
    {
     "name": "stderr",
     "output_type": "stream",
     "text": [
      "\u001b[33m\u001b[1m┌ \u001b[22m\u001b[39m\u001b[33m\u001b[1mWarning: \u001b[22m\u001b[39mAgent type is not concrete. If your agent is parametrically typed, you're probably\n",
      "\u001b[33m\u001b[1m│ \u001b[22m\u001b[39mseeing this warning because you gave `Agent` instead of `Agent{Float64}`\n",
      "\u001b[33m\u001b[1m│ \u001b[22m\u001b[39m(for example) to this function. You can also create an instance of your agent\n",
      "\u001b[33m\u001b[1m│ \u001b[22m\u001b[39mand pass it to this function. If you want to use `Union` types for mixed agent\n",
      "\u001b[33m\u001b[1m│ \u001b[22m\u001b[39mmodels, you can silence this warning.\n",
      "\u001b[33m\u001b[1m│ \u001b[22m\u001b[39mIf you are using `ContinuousAgent{D}` as agent type in version 6+, update\n",
      "\u001b[33m\u001b[1m│ \u001b[22m\u001b[39mto the new two-parameter version `ContinuousAgent{D,Float64}` to obtain\n",
      "\u001b[33m\u001b[1m│ \u001b[22m\u001b[39mthe same behavior as previous Agents.jl versions.\n",
      "\u001b[33m\u001b[1m└ \u001b[22m\u001b[39m\u001b[90m@ Agents ~/.julia/packages/Agents/WuWeG/src/core/model_validation.jl:15\u001b[39m\n"
     ]
    },
    {
     "ename": "LoadError",
     "evalue": "type Firm has no field E",
     "output_type": "error",
     "traceback": [
      "type Firm has no field E",
      "",
      "Stacktrace:",
      " [1] getproperty",
      "   @ ./Base.jl:49 [inlined]",
      " [2] macro expansion",
      "   @ ./In[2]:15 [inlined]",
      " [3] macro expansion",
      "   @ ~/.julia/packages/ProgressMeter/kniaW/src/ProgressMeter.jl:1021 [inlined]",
      " [4] top-level scope",
      "   @ ./In[2]:9"
     ]
    }
   ],
   "source": [
    "model1 = GrowthBanks.initialize_econ(;seed = 2)\n",
    "GDP_series = []\n",
    "S_series = []\n",
    "D_series = []\n",
    "banquity = []\n",
    "L_series = []\n",
    "dates = 0:500\n",
    "\n",
    "@showprogress for t in dates\n",
    "\n",
    "    GDP, Eq, D, L, bq = 0, 0, 0, 0, 0\n",
    "    for agent in allagents(model1)\n",
    "        if isa(agent, GrowthBanks.Firm)\n",
    "            Q = agent.Q\n",
    "            S = agent.S\n",
    "            D += agent.D\n",
    "            GDP += Q\n",
    "            Eq += E\n",
    "        else\n",
    "            bq += agent.equity\n",
    "            L += agent.liquidity\n",
    "        end\n",
    "    end\n",
    "    push!(GDP_series, log(max(0, GDP)))\n",
    "    push!(E_series, log(max(0, Eq)))\n",
    "    push!(D_series, log(max(0, D)))\n",
    "    \n",
    "    push!(banquity, log(max(0, bq)))\n",
    "    push!(B_series, log(max(0, L)))\n",
    "    step!(model1)\n",
    "end\n",
    "GDP_series = convert(Vector{Float64}, GDP_series)\n",
    "D_series = convert(Vector{Float64}, D_series)\n",
    "S_series = convert(Vector{Float64}, S_series)\n",
    "L_series = convert(Vector{Float64}, L_series)\n",
    "banquity = convert(Vector{Float64}, banquity)\n",
    "\n",
    "p = plot(dates, GDP_series,\n",
    "    title=\"GDP\", xlabel=\"time\", ylabel=\"log GDP\", linewidth=2, legend=false, grid=true)\n",
    "\n",
    "p2 = plot(dates, S_series,\n",
    "    title=\"Savings: firms\", xlabel=\"time\", ylabel=\"log GDP\", linewidth=2, legend=false, grid=true)\n",
    "\n",
    "p3 = plot(dates, D_series,\n",
    "    title=\"Debt: firms\", xlabel=\"time\", ylabel=\"log D\", linewidth=2, legend=false, grid=true)\n",
    "\n",
    "p4 = plot(dates, banquity,\n",
    "    title=\"Bank equity: Schumpeterian growth economy\", xlabel=\"time\", ylabel=\"log BE\", linewidth=2, legend=false, grid=true)\n",
    "p5 = plot(dates, L_series,\n",
    "    title=\"Bank Liquidity: Schumpeterian growth economy\", xlabel=\"time\", ylabel=\"log BE\", linewidth=2, legend=false, grid=true)\n",
    "\n",
    "# Display the plots\n",
    "display(p)\n",
    "display(p4)\n",
    "display(p2)\n",
    "display(p3)\n",
    "display(p5)\n"
   ]
  },
  {
   "cell_type": "code",
   "execution_count": null,
   "metadata": {},
   "outputs": [],
   "source": []
  },
  {
   "cell_type": "code",
   "execution_count": null,
   "metadata": {},
   "outputs": [],
   "source": [
    "ADFTest(GDP_series, :constant, 0)"
   ]
  }
 ],
 "metadata": {
  "kernelspec": {
   "display_name": "Julia 1.11.4",
   "language": "julia",
   "name": "julia-1.11"
  },
  "language_info": {
   "file_extension": ".jl",
   "mimetype": "application/julia",
   "name": "julia",
   "version": "1.11.4"
  }
 },
 "nbformat": 4,
 "nbformat_minor": 2
}
