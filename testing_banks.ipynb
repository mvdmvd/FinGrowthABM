{
 "cells": [
  {
   "cell_type": "code",
   "execution_count": 1,
   "metadata": {},
   "outputs": [
    {
     "ename": "LoadError",
     "evalue": "LoadError: UndefVarError: `Bank` not defined in `Main`\nSuggestion: check for spelling errors or missing imports.\nin expression starting at /Users/meesvandartel/Desktop/Projects/LPR projects/FinGrowthABM_repo/GrowthBanks.jl:212",
     "output_type": "error",
     "traceback": [
      "LoadError: UndefVarError: `Bank` not defined in `Main`\nSuggestion: check for spelling errors or missing imports.\nin expression starting at /Users/meesvandartel/Desktop/Projects/LPR projects/FinGrowthABM_repo/GrowthBanks.jl:212",
      "",
      "Stacktrace:",
      " [1] top-level scope",
      "   @ ~/Desktop/Projects/LPR projects/FinGrowthABM_repo/GrowthBanks.jl:212",
      " [2] include(fname::String)",
      "   @ Main ./sysimg.jl:38",
      " [3] top-level scope",
      "   @ In[1]:1"
     ]
    }
   ],
   "source": [
    "include(\"/Users/meesvandartel/Desktop/Projects/LPR projects/FinGrowthABM_repo/GrowthBanks.jl\")\n",
    "using .GrowthBanks,Agents,Plots,HypothesisTests,ProgressMeter"
   ]
  },
  {
   "cell_type": "code",
   "execution_count": null,
   "metadata": {},
   "outputs": [],
   "source": [
    "model1 = GrowthBanks.initialize_econ(;seed = 41)\n",
    "GDP_series = []\n",
    "E_series = []\n",
    "D_series = []\n",
    "B_series = []\n",
    "dates = 0:500\n",
    "\n",
    "@showprogress for t in dates\n",
    "\n",
    "    GDP = 0\n",
    "    Eq = 0\n",
    "    D = 0\n",
    "    B = 0\n",
    "    for agent in allagents(model1)\n",
    "        if isa(agent, GrowthBanks.Firm)\n",
    "            Q = agent.Q\n",
    "            E = agent.E\n",
    "            D += agent.D\n",
    "            B += agent.B\n",
    "            GDP += Q\n",
    "            Eq += E\n",
    "        end\n",
    "    end\n",
    "    push!(GDP_series, log(GDP))\n",
    "    push!(E_series, log(Eq))\n",
    "    push!(D_series, log(D))\n",
    "    push!(B_series, log(B))\n",
    "    step!(model1)\n",
    "end\n",
    "GDP_series = convert(Vector{Float64}, GDP_series)\n",
    "D_series = convert(Vector{Float64}, D_series)\n",
    "B_series = convert(Vector{Float64}, B_series)\n",
    "\n",
    "p = plot(dates, GDP_series,\n",
    "    title=\"GDP\", xlabel=\"time\", ylabel=\"log GDP\", linewidth=2, legend=false, grid=true)\n",
    "\n",
    "p2 = plot(dates, E_series,\n",
    "    title=\"Savings\", xlabel=\"time\", ylabel=\"log GDP\", linewidth=2, legend=false, grid=true)\n",
    "\n",
    "p3 = plot(dates, D_series,\n",
    "    title=\"Debt: Schumpeterian growth economy\", xlabel=\"time\", ylabel=\"log D\", linewidth=2, legend=false, grid=true)\n",
    "\n",
    "p4 = plot(dates, B_series,\n",
    "    title=\"Bank money: Schumpeterian growth economy\", xlabel=\"time\", ylabel=\"log B\", linewidth=2, legend=false, grid=true)\n",
    "\n",
    "# Display the plots\n",
    "display(p)\n",
    "display(p2)\n",
    "display(p3)\n",
    "display(p4)"
   ]
  },
  {
   "cell_type": "code",
   "execution_count": null,
   "metadata": {},
   "outputs": [],
   "source": [
    "ADFTest(GDP_series, :constant, 0)"
   ]
  }
 ],
 "metadata": {
  "kernelspec": {
   "display_name": "Julia 1.11.4",
   "language": "julia",
   "name": "julia-1.11"
  },
  "language_info": {
   "file_extension": ".jl",
   "mimetype": "application/julia",
   "name": "julia",
   "version": "1.11.4"
  }
 },
 "nbformat": 4,
 "nbformat_minor": 2
}
