{
 "cells": [
  {
   "cell_type": "code",
   "execution_count": null,
   "metadata": {},
   "outputs": [],
   "source": [
    "include(\"/Users/meesvandartel/Desktop/LPR FinGrow/Reprod Paper/GrowthBasic.jl\")\n",
    "using .GrowthBasic\n",
    "using Agents\n",
    "using Plots\n",
    "using HypothesisTests\n",
    "using ProgressMeter\n",
    "using Statistics\n",
    "using Base.Threads\n",
    "using StatsBase"
   ]
  },
  {
   "cell_type": "code",
   "execution_count": null,
   "metadata": {},
   "outputs": [],
   "source": [
    "#ADF tests on aggregate and differences series respectively\n",
    "MC = 1\n",
    "dates = 1:500\n",
    "agg_p = []\n",
    "growth_p=[]\n",
    "growth_vectors=[]\n",
    "\n",
    "@showprogress for iter in 1:MC\n",
    "    model = GrowthBasic.initialize_econ(;seed = rand(Int))\n",
    "    GDP_series = []\n",
    "    for t in dates\n",
    "        GDP = 0\n",
    "        for agent in allagents(model)\n",
    "            Q = agent.Q\n",
    "            GDP += Q\n",
    "        end\n",
    "        push!(GDP_series, log(GDP))\n",
    "        step!(model)\n",
    "    end\n",
    "    GDP_series = convert(Vector{Float64}, GDP_series)\n",
    "    GDP_growth = diff(GDP_series)\n",
    "    push!(growth_vectors, GDP_growth)\n",
    "\n",
    "    test_agg = ADFTest(GDP_series, :constant, :0)\n",
    "    test_growth = ADFTest(GDP_growth,:constant,:0)\n",
    "    push!(agg_p, pvalue(test_agg))\n",
    "    push!(growth_p, pvalue(test_growth))\n",
    "end\n"
   ]
  },
  {
   "cell_type": "code",
   "execution_count": null,
   "metadata": {},
   "outputs": [],
   "source": [
    "c_agg = count(x -> x>0.05, agg_p)\n",
    "c_growth = count(x -> x>0.05, growth_p)\n",
    "\n",
    "println(\"Share of accepted H0= unit root for aggregate: $((c_agg/MC)*100)%\")\n",
    "\n",
    "println(\"Share of accepted H0= unit root for differenced: $((c_growth/MC)*100)&\")\n",
    "\n",
    "#Aggregare is non-stationary, differences is stationary just as in paper"
   ]
  },
  {
   "cell_type": "code",
   "execution_count": null,
   "metadata": {},
   "outputs": [],
   "source": [
    "MC = 100\n",
    "dates = 500\n",
    "growth_vectors=Vector{Vector{Float64}}(undef, MC)\n",
    "\n",
    "@showprogress for iter in 1:MC\n",
    "    model = GrowthBasic.initialize_econ(;seed = rand(Int))\n",
    "    GDP_series = Vector{Float64}(undef, dates)\n",
    "    for t in 1:dates\n",
    "        GDP = 0.0\n",
    "        @inbounds for agent in allagents(model)\n",
    "            GDP += agent.Q\n",
    "        end\n",
    "        GDP_series[t] = log(GDP)\n",
    "        step!(model)\n",
    "    end\n",
    "    GDP_growth = diff(GDP_series)\n",
    "    growth_vectors[iter] = GDP_growth\n",
    "\n",
    "end\n",
    "\n",
    "print(growth_vectors)"
   ]
  },
  {
   "cell_type": "code",
   "execution_count": null,
   "metadata": {},
   "outputs": [],
   "source": [
    "test = mean(growth_vectors)\n",
    "print(test)"
   ]
  },
  {
   "cell_type": "code",
   "execution_count": null,
   "metadata": {},
   "outputs": [],
   "source": [
    "acf_values = autocor(test, collect(1:30); demean = true)\n",
    "print(acf_values)\n",
    "\n",
    "plot(acf_values, title=\"Autocorrelation Function\", xlabel=\"Lag\", ylabel=\"ACF Value\")"
   ]
  }
 ],
 "metadata": {
  "kernelspec": {
   "display_name": "Julia 1.11.4",
   "language": "julia",
   "name": "julia-1.11"
  },
  "language_info": {
   "file_extension": ".jl",
   "mimetype": "application/julia",
   "name": "julia",
   "version": "1.11.4"
  }
 },
 "nbformat": 4,
 "nbformat_minor": 2
}
